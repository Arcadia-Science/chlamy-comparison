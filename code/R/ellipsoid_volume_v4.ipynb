{
 "cells": [
  {
   "cell_type": "markdown",
   "id": "ca8efc3e-867f-40f1-968d-1d7b122fe72c",
   "metadata": {},
   "source": [
    "## This code calculates the volume of an ellipsoid from the dimensions generated in the folder describing the segmentation performed in a different folder of this repo."
   ]
  },
  {
   "cell_type": "code",
   "execution_count": 2,
   "id": "a17443d2-9db2-443e-bf63-3599f458f312",
   "metadata": {},
   "outputs": [
    {
     "name": "stderr",
     "output_type": "stream",
     "text": [
      "\n",
      "Attaching package: ‘dplyr’\n",
      "\n",
      "\n",
      "The following objects are masked from ‘package:stats’:\n",
      "\n",
      "    filter, lag\n",
      "\n",
      "\n",
      "The following objects are masked from ‘package:base’:\n",
      "\n",
      "    intersect, setdiff, setequal, union\n",
      "\n",
      "\n"
     ]
    }
   ],
   "source": [
    "library(dplyr)\n",
    "library(tidyr)\n",
    "library(ggplot2)\n",
    "library(stats)"
   ]
  },
  {
   "cell_type": "code",
   "execution_count": 3,
   "id": "a1ab2419-6da8-4f81-8cba-edab45e829fc",
   "metadata": {},
   "outputs": [],
   "source": [
    "# Define a function to compute the volume of an ellipsoid\n",
    "volume_ellipsoid <- function(width, height, depth) {\n",
    "  a <- width / 2\n",
    "  b <- height / 2\n",
    "  c <- depth / 2\n",
    "  volume <- (4/3) * pi * a * b * c\n",
    "  return(volume)\n",
    "}"
   ]
  },
  {
   "cell_type": "code",
   "execution_count": 4,
   "id": "f01f4b19-8d2b-47e5-8ae6-08c9d75ac097",
   "metadata": {},
   "outputs": [],
   "source": [
    "# Read the data from the CSV file\n",
    "data <- read.csv(\"output_dimensions_mito_both.csv\")"
   ]
  },
  {
   "cell_type": "code",
   "execution_count": 5,
   "id": "333ac642-db54-436b-863f-1ef2bb36f551",
   "metadata": {},
   "outputs": [],
   "source": [
    "# Calculate eccentricities\n",
    "data <- data %>%\n",
    "  group_by(width, height, depth) %>%\n",
    "  mutate(a = max(width, height, depth) / 2,\n",
    "         b = min(width, height, depth) / 2,\n",
    "         c = sqrt(a^2 - b^2),\n",
    "         eccentricity = sqrt(1 - (c^2 / a^2))) %>%\n",
    "  ungroup()"
   ]
  },
  {
   "cell_type": "code",
   "execution_count": 6,
   "id": "58f5aa08-b37c-4256-b54d-a2962eb26ad3",
   "metadata": {},
   "outputs": [],
   "source": [
    "# Check if the necessary columns exist\n",
    "if(!all(c(\"width\", \"height\", \"depth\", \"species\", \"eccentricity\") %in% names(data))) {\n",
    "  stop(\"The CSV file must contain 'width', 'height', 'depth', and 'species' columns.\")\n",
    "}\n",
    "\n",
    "# Calculate volumes\n",
    "data$volume <- with(data, mapply(volume_ellipsoid, width, height, depth))\n",
    "\n",
    "# save the cell volumes file\n",
    "write.csv(data, file = \"output_cell_volume.csv\", row.names = FALSE)"
   ]
  },
  {
   "cell_type": "code",
   "execution_count": 16,
   "id": "2275d401-e520-44d8-b460-e04dbd876426",
   "metadata": {},
   "outputs": [
    {
     "data": {
      "text/html": [
       "<table class=\"dataframe\">\n",
       "<caption>A data.frame: 6 × 6</caption>\n",
       "<thead>\n",
       "\t<tr><th></th><th scope=col>Filename</th><th scope=col>depth</th><th scope=col>height</th><th scope=col>width</th><th scope=col>species</th><th scope=col>volume</th></tr>\n",
       "\t<tr><th></th><th scope=col>&lt;chr&gt;</th><th scope=col>&lt;dbl&gt;</th><th scope=col>&lt;dbl&gt;</th><th scope=col>&lt;dbl&gt;</th><th scope=col>&lt;chr&gt;</th><th scope=col>&lt;dbl&gt;</th></tr>\n",
       "</thead>\n",
       "<tbody>\n",
       "\t<tr><th scope=row>1</th><td>processed_Cr_TAP_2x-PK_mito_chloro_032_C3_BGSub.segmentation.tiff</td><td>7.2</td><td>11.3595211</td><td> 7.8309505</td><td>cr</td><td>335.3556449</td></tr>\n",
       "\t<tr><th scope=row>2</th><td>processed_Cr_TAP_2x-PK_mito_chloro_007_C3_BGSub.segmentation.tiff</td><td>7.1</td><td> 9.1773788</td><td>10.2142833</td><td>cr</td><td>348.4845476</td></tr>\n",
       "\t<tr><th scope=row>3</th><td>processed_Cr_TAP_2x-PK_mito_chloro_028_C3_BGSub.segmentation.tiff</td><td>2.1</td><td> 0.7892855</td><td> 0.9749998</td><td>cr</td><td>  0.8461679</td></tr>\n",
       "\t<tr><th scope=row>4</th><td>processed_Cr_TAP_2x-PK_mito_chloro_024_C3_BGSub.segmentation.tiff</td><td>3.8</td><td>10.9416641</td><td> 8.7130932</td><td>cr</td><td>189.6871683</td></tr>\n",
       "\t<tr><th scope=row>5</th><td>processed_Cr_TAP_2x-PK_mito_chloro_011_C3_BGSub.segmentation.tiff</td><td>7.4</td><td> 8.7440455</td><td> 9.8273786</td><td>cr</td><td>332.9510899</td></tr>\n",
       "\t<tr><th scope=row>6</th><td>processed_Cr_TAP_2x-PK_mito_chloro_016_C3_BGSub.segmentation.tiff</td><td>8.7</td><td>10.6476165</td><td> 9.1154740</td><td>cr</td><td>442.1295412</td></tr>\n",
       "</tbody>\n",
       "</table>\n"
      ],
      "text/latex": [
       "A data.frame: 6 × 6\n",
       "\\begin{tabular}{r|llllll}\n",
       "  & Filename & depth & height & width & species & volume\\\\\n",
       "  & <chr> & <dbl> & <dbl> & <dbl> & <chr> & <dbl>\\\\\n",
       "\\hline\n",
       "\t1 & processed\\_Cr\\_TAP\\_2x-PK\\_mito\\_chloro\\_032\\_C3\\_BGSub.segmentation.tiff & 7.2 & 11.3595211 &  7.8309505 & cr & 335.3556449\\\\\n",
       "\t2 & processed\\_Cr\\_TAP\\_2x-PK\\_mito\\_chloro\\_007\\_C3\\_BGSub.segmentation.tiff & 7.1 &  9.1773788 & 10.2142833 & cr & 348.4845476\\\\\n",
       "\t3 & processed\\_Cr\\_TAP\\_2x-PK\\_mito\\_chloro\\_028\\_C3\\_BGSub.segmentation.tiff & 2.1 &  0.7892855 &  0.9749998 & cr &   0.8461679\\\\\n",
       "\t4 & processed\\_Cr\\_TAP\\_2x-PK\\_mito\\_chloro\\_024\\_C3\\_BGSub.segmentation.tiff & 3.8 & 10.9416641 &  8.7130932 & cr & 189.6871683\\\\\n",
       "\t5 & processed\\_Cr\\_TAP\\_2x-PK\\_mito\\_chloro\\_011\\_C3\\_BGSub.segmentation.tiff & 7.4 &  8.7440455 &  9.8273786 & cr & 332.9510899\\\\\n",
       "\t6 & processed\\_Cr\\_TAP\\_2x-PK\\_mito\\_chloro\\_016\\_C3\\_BGSub.segmentation.tiff & 8.7 & 10.6476165 &  9.1154740 & cr & 442.1295412\\\\\n",
       "\\end{tabular}\n"
      ],
      "text/markdown": [
       "\n",
       "A data.frame: 6 × 6\n",
       "\n",
       "| <!--/--> | Filename &lt;chr&gt; | depth &lt;dbl&gt; | height &lt;dbl&gt; | width &lt;dbl&gt; | species &lt;chr&gt; | volume &lt;dbl&gt; |\n",
       "|---|---|---|---|---|---|---|\n",
       "| 1 | processed_Cr_TAP_2x-PK_mito_chloro_032_C3_BGSub.segmentation.tiff | 7.2 | 11.3595211 |  7.8309505 | cr | 335.3556449 |\n",
       "| 2 | processed_Cr_TAP_2x-PK_mito_chloro_007_C3_BGSub.segmentation.tiff | 7.1 |  9.1773788 | 10.2142833 | cr | 348.4845476 |\n",
       "| 3 | processed_Cr_TAP_2x-PK_mito_chloro_028_C3_BGSub.segmentation.tiff | 2.1 |  0.7892855 |  0.9749998 | cr |   0.8461679 |\n",
       "| 4 | processed_Cr_TAP_2x-PK_mito_chloro_024_C3_BGSub.segmentation.tiff | 3.8 | 10.9416641 |  8.7130932 | cr | 189.6871683 |\n",
       "| 5 | processed_Cr_TAP_2x-PK_mito_chloro_011_C3_BGSub.segmentation.tiff | 7.4 |  8.7440455 |  9.8273786 | cr | 332.9510899 |\n",
       "| 6 | processed_Cr_TAP_2x-PK_mito_chloro_016_C3_BGSub.segmentation.tiff | 8.7 | 10.6476165 |  9.1154740 | cr | 442.1295412 |\n",
       "\n"
      ],
      "text/plain": [
       "  Filename                                                          depth\n",
       "1 processed_Cr_TAP_2x-PK_mito_chloro_032_C3_BGSub.segmentation.tiff 7.2  \n",
       "2 processed_Cr_TAP_2x-PK_mito_chloro_007_C3_BGSub.segmentation.tiff 7.1  \n",
       "3 processed_Cr_TAP_2x-PK_mito_chloro_028_C3_BGSub.segmentation.tiff 2.1  \n",
       "4 processed_Cr_TAP_2x-PK_mito_chloro_024_C3_BGSub.segmentation.tiff 3.8  \n",
       "5 processed_Cr_TAP_2x-PK_mito_chloro_011_C3_BGSub.segmentation.tiff 7.4  \n",
       "6 processed_Cr_TAP_2x-PK_mito_chloro_016_C3_BGSub.segmentation.tiff 8.7  \n",
       "  height     width      species volume     \n",
       "1 11.3595211  7.8309505 cr      335.3556449\n",
       "2  9.1773788 10.2142833 cr      348.4845476\n",
       "3  0.7892855  0.9749998 cr        0.8461679\n",
       "4 10.9416641  8.7130932 cr      189.6871683\n",
       "5  8.7440455  9.8273786 cr      332.9510899\n",
       "6 10.6476165  9.1154740 cr      442.1295412"
      ]
     },
     "metadata": {},
     "output_type": "display_data"
    }
   ],
   "source": [
    "head (data)"
   ]
  },
  {
   "cell_type": "code",
   "execution_count": 7,
   "id": "d3764ef0-204b-4692-aea9-cf2ba0d9d5b0",
   "metadata": {},
   "outputs": [],
   "source": [
    "# Calculate volumes\n",
    "data$volume <- with(data, mapply(volume_ellipsoid, width, height, depth))"
   ]
  },
  {
   "cell_type": "code",
   "execution_count": 8,
   "id": "04d7a934-c7df-4ebe-8bdf-5fe9f6108e89",
   "metadata": {},
   "outputs": [
    {
     "data": {
      "text/html": [
       "<style>\n",
       ".list-inline {list-style: none; margin:0; padding: 0}\n",
       ".list-inline>li {display: inline-block}\n",
       ".list-inline>li:not(:last-child)::after {content: \"\\00b7\"; padding: 0 .5ex}\n",
       "</style>\n",
       "<ol class=list-inline><li>335.355644850547</li><li>348.484547603754</li><li>0.846167943090519</li><li>189.687168257325</li><li>332.951089881894</li><li>442.12954115692</li></ol>\n"
      ],
      "text/latex": [
       "\\begin{enumerate*}\n",
       "\\item 335.355644850547\n",
       "\\item 348.484547603754\n",
       "\\item 0.846167943090519\n",
       "\\item 189.687168257325\n",
       "\\item 332.951089881894\n",
       "\\item 442.12954115692\n",
       "\\end{enumerate*}\n"
      ],
      "text/markdown": [
       "1. 335.355644850547\n",
       "2. 348.484547603754\n",
       "3. 0.846167943090519\n",
       "4. 189.687168257325\n",
       "5. 332.951089881894\n",
       "6. 442.12954115692\n",
       "\n",
       "\n"
      ],
      "text/plain": [
       "[1] 335.3556449 348.4845476   0.8461679 189.6871683 332.9510899 442.1295412"
      ]
     },
     "metadata": {},
     "output_type": "display_data"
    }
   ],
   "source": [
    "head (data$volume)"
   ]
  },
  {
   "cell_type": "code",
   "execution_count": 9,
   "id": "8e25efd7-2569-4b67-8bc5-512820f326cf",
   "metadata": {},
   "outputs": [],
   "source": [
    "# save the cell volumes file\n",
    "write.csv(data, file = \"output_cell_volume.csv\", row.names = FALSE)"
   ]
  },
  {
   "cell_type": "code",
   "execution_count": 1,
   "id": "21cc32ef-c783-4c26-b7fa-af8b38ba0e73",
   "metadata": {},
   "outputs": [
    {
     "data": {
      "text/plain": [
       "R version 4.3.1 (2023-06-16)\n",
       "Platform: aarch64-apple-darwin20 (64-bit)\n",
       "Running under: macOS Monterey 12.5.1\n",
       "\n",
       "Matrix products: default\n",
       "BLAS:   /Library/Frameworks/R.framework/Versions/4.3-arm64/Resources/lib/libRblas.0.dylib \n",
       "LAPACK: /Library/Frameworks/R.framework/Versions/4.3-arm64/Resources/lib/libRlapack.dylib;  LAPACK version 3.11.0\n",
       "\n",
       "locale:\n",
       "[1] en_US.UTF-8/en_US.UTF-8/en_US.UTF-8/C/en_US.UTF-8/en_US.UTF-8\n",
       "\n",
       "time zone: America/Los_Angeles\n",
       "tzcode source: internal\n",
       "\n",
       "attached base packages:\n",
       "[1] stats     graphics  grDevices utils     datasets  methods   base     \n",
       "\n",
       "loaded via a namespace (and not attached):\n",
       " [1] digest_0.6.33   IRdisplay_1.1   utf8_1.2.3      base64enc_0.1-3\n",
       " [5] fastmap_1.1.1   glue_1.6.2      htmltools_0.5.6 repr_1.1.6     \n",
       " [9] lifecycle_1.0.3 cli_3.6.1       fansi_1.0.4     vctrs_0.6.3    \n",
       "[13] pbdZMQ_0.3-10   compiler_4.3.1  tools_4.3.1     evaluate_0.21  \n",
       "[17] pillar_1.9.0    crayon_1.5.2    rlang_1.1.1     jsonlite_1.8.7 \n",
       "[21] IRkernel_1.3.2  uuid_1.1-1     "
      ]
     },
     "metadata": {},
     "output_type": "display_data"
    }
   ],
   "source": [
    "sessionInfo()"
   ]
  },
  {
   "cell_type": "code",
   "execution_count": null,
   "id": "d84291f8-0352-43da-b8de-c9456f659686",
   "metadata": {},
   "outputs": [],
   "source": []
  }
 ],
 "metadata": {
  "kernelspec": {
   "display_name": "R",
   "language": "R",
   "name": "ir"
  },
  "language_info": {
   "codemirror_mode": "r",
   "file_extension": ".r",
   "mimetype": "text/x-r-source",
   "name": "R",
   "pygments_lexer": "r",
   "version": "4.3.1"
  }
 },
 "nbformat": 4,
 "nbformat_minor": 5
}
