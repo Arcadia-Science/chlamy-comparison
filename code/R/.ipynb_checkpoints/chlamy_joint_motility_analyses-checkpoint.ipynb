{
 "cells": [
  {
   "cell_type": "markdown",
   "id": "f6498283",
   "metadata": {},
   "source": [
    "## Prepare workspace and load data"
   ]
  },
  {
   "cell_type": "markdown",
   "id": "dcef245f",
   "metadata": {},
   "source": [
    "<font size=\"3\"> Set working directory"
   ]
  },
  {
   "cell_type": "code",
   "execution_count": 24,
   "id": "e46067bf",
   "metadata": {},
   "outputs": [
    {
     "data": {
      "text/html": [
       "'/Users/ryanyork/Documents/Research/github/chlamy-comparison-v3-private'"
      ],
      "text/latex": [
       "'/Users/ryanyork/Documents/Research/github/chlamy-comparison-v3-private'"
      ],
      "text/markdown": [
       "'/Users/ryanyork/Documents/Research/github/chlamy-comparison-v3-private'"
      ],
      "text/plain": [
       "[1] \"/Users/ryanyork/Documents/Research/github/chlamy-comparison-v3-private\""
      ]
     },
     "metadata": {},
     "output_type": "display_data"
    }
   ],
   "source": [
    "library(here)\n",
    "here::here() # Should be set to the root of the repository\n",
    "setwd(here::here())"
   ]
  },
  {
   "cell_type": "markdown",
   "id": "9f7125bd",
   "metadata": {},
   "source": [
    "<font size=\"3\"> Source functions"
   ]
  },
  {
   "cell_type": "code",
   "execution_count": 25,
   "id": "777b2cd3",
   "metadata": {},
   "outputs": [],
   "source": [
    "source('code/R/chlamy_motility_utils.R')"
   ]
  },
  {
   "cell_type": "markdown",
   "id": "59f313cb",
   "metadata": {},
   "source": [
    "<font size=\"3\"> Load data from NAS"
   ]
  },
  {
   "cell_type": "code",
   "execution_count": null,
   "id": "469d9785",
   "metadata": {},
   "outputs": [],
   "source": [
    "objs = load_chlamy_motility('/Volumes/Microscopy/Theia/chlamy_compare/morphology_motility/experiments/230509_motility_pools_exp1/3min/objects/')"
   ]
  },
  {
   "cell_type": "markdown",
   "id": "9c0e3dbc",
   "metadata": {},
   "source": [
    "## Compare autocorrelation of velocities"
   ]
  },
  {
   "cell_type": "markdown",
   "id": "ed34d3ed",
   "metadata": {},
   "source": [
    "<font size=\"3\"> Create data matrices for each species"
   ]
  },
  {
   "cell_type": "code",
   "execution_count": null,
   "id": "a36cca15",
   "metadata": {},
   "outputs": [],
   "source": [
    "#Combine all experiments into a single data frame\n",
    "species = do.call(rbind, objs)\n",
    "\n",
    "#Remove NAs\n",
    "species = na.omit(species)\n",
    "\n",
    "#Split on species\n",
    "species = split(as.data.frame(species), species$species)"
   ]
  },
  {
   "cell_type": "markdown",
   "id": "f84bdec1",
   "metadata": {},
   "source": [
    "<font size=\"3\"> Calculate autocorrelations"
   ]
  },
  {
   "cell_type": "code",
   "execution_count": null,
   "id": "52bca647",
   "metadata": {},
   "outputs": [],
   "source": [
    "#Reinhardtii velocity\n",
    "cr_v = acf(species$cr$velocity, lag = 100, plot = FALSE)\n",
    "\n",
    "#Smithii velocity\n",
    "cs_v = acf(species$cs$velocity, lag = 100, plot = FALSE)\n",
    "\n",
    "#Reinhardtii velocity\n",
    "cr_a = acf(species$cr$angular_velocity, lag = 100, plot = FALSE)\n",
    "\n",
    "#Reinhardtii angular velocity\n",
    "cs_a = acf(species$cs$angular_velocity, lag = 100, plot = FALSE)"
   ]
  },
  {
   "cell_type": "markdown",
   "id": "55dd3bee",
   "metadata": {},
   "source": [
    "<font size=\"3\"> Plot autocorrelation distribvutions"
   ]
  },
  {
   "cell_type": "code",
   "execution_count": null,
   "id": "891c5475",
   "metadata": {},
   "outputs": [],
   "source": [
    "#Set up plot\n",
    "options(repr.plot.width = 12, repr.plot.height = 6)\n",
    "par(mfrow = c(1,2))\n",
    "\n",
    "#Plot velocity autocorrelation distributions\n",
    "plot(cr_v$acf,\n",
    "     type = 'l',\n",
    "     lwd = 1.5,\n",
    "     ylim = c(-0.2,1),\n",
    "     ylab = 'Autocorrelation',\n",
    "     xlab = 'Frames',\n",
    "     col = 'green2',\n",
    "     cex.axis = 1.5,\n",
    "     cex.lab = 1.5,\n",
    "     bty = 'n')\n",
    "lines(cs_v$acf,\n",
    "      lwd = 1.5,\n",
    "      col = 'darkgreen')\n",
    "title(main = 'Velocity', font.main = 1, cex.main = 1.5)\n",
    "abline(h = 0, lty = 'dashed', col = 'gray60')\n",
    "text(95, 0.95, 'CR', col = 'green2')\n",
    "text(95, 0.9, 'CS', col = 'darkgreen')\n",
    "\n",
    "#Plot angular velocity autocorrelation distributions\n",
    "plot(cr_a$acf,\n",
    "     type = 'l',\n",
    "     lwd = 1.5,\n",
    "     ylim = c(-0.2,1),\n",
    "     ylab = 'Autocorrelation',\n",
    "     xlab = 'Frames',\n",
    "     col = 'green2',\n",
    "     cex.axis = 1.5,\n",
    "     cex.lab = 1.5,\n",
    "     bty = 'n')\n",
    "lines(cs_a$acf,\n",
    "      lwd = 1.5,\n",
    "      col = 'darkgreen')\n",
    "title(main = 'Angular velocity', font.main = 1, cex.main = 1.5)\n",
    "abline(h = 0, lty = 'dashed', col = 'gray60')\n",
    "text(95, 0.95, 'CR', col = 'green2')\n",
    "text(95, 0.9, 'CS', col = 'darkgreen')"
   ]
  },
  {
   "cell_type": "markdown",
   "id": "b9bf0a86",
   "metadata": {},
   "source": [
    "## Compare joint velocity distributions"
   ]
  },
  {
   "cell_type": "markdown",
   "id": "38f013a3",
   "metadata": {},
   "source": [
    "<font size=\"3\"> Create lists of species-level measures"
   ]
  },
  {
   "cell_type": "code",
   "execution_count": null,
   "id": "010e484b",
   "metadata": {},
   "outputs": [],
   "source": [
    "#Combine experiments\n",
    "species = do.call(rbind, objs)\n",
    "\n",
    "#Remove NAs\n",
    "species = na.omit(species)\n",
    "\n",
    "#Split on species\n",
    "species = split(as.data.frame(species), species$species)"
   ]
  },
  {
   "cell_type": "markdown",
   "id": "3b5bb092",
   "metadata": {},
   "source": [
    "<font size=\"3\"> Calculate joint velocity distributions (as probability density functions) and plot"
   ]
  },
  {
   "cell_type": "code",
   "execution_count": null,
   "id": "5bf03284",
   "metadata": {},
   "outputs": [],
   "source": [
    "#Plot\n",
    "options(repr.plot.width = 15, repr.plot.height = 5)\n",
    "par(mfrow = c(1,3))\n",
    "\n",
    "#CR\n",
    "cr = plot_velocity_prob_density_function(species$cr$velocity,\n",
    "                                         species$cr$angular_velocity,\n",
    "                                         title_label = 'C. reinhardtii')\n",
    "\n",
    "#CS\n",
    "cs = plot_velocity_prob_density_function(species$cs$velocity,\n",
    "                                         species$cs$angular_velocity,\n",
    "                                         title_label = 'C. smithii')\n",
    "\n",
    "#Difference\n",
    "d = plot_diff_prob_density_function(cr, cs)"
   ]
  },
  {
   "cell_type": "markdown",
   "id": "6f8a8b6b",
   "metadata": {},
   "source": [
    "## Compare joint velocity distributions as a function of cell number"
   ]
  },
  {
   "cell_type": "markdown",
   "id": "d3d33451",
   "metadata": {},
   "source": [
    "<font size=\"3\"> Get vector of unique experiment names. This will be used to ID experiments where there were multiple cells (i.e. the experiment name will appear >1x)."
   ]
  },
  {
   "cell_type": "code",
   "execution_count": null,
   "id": "6d646b8e",
   "metadata": {},
   "outputs": [],
   "source": [
    "y = duplicated(unlist(lapply(names(objs), function(x) substr(x, 1, nchar(x)-2))))\n",
    "for(i in 1:(length(y)-1)){\n",
    "  if(y[i+1]==TRUE){\n",
    "    y[i] = TRUE\n",
    "  }\n",
    "}"
   ]
  },
  {
   "cell_type": "markdown",
   "id": "e291313a",
   "metadata": {},
   "source": [
    "<font size=\"3\"> Separate single and multi cell experiments"
   ]
  },
  {
   "cell_type": "code",
   "execution_count": null,
   "id": "ee892a13",
   "metadata": {},
   "outputs": [],
   "source": [
    "#Multi\n",
    "multi = objs[y==TRUE]\n",
    "\n",
    "#Single\n",
    "single = objs[y==FALSE]\n",
    "\n",
    "#Combine\n",
    "multi = do.call(rbind, multi)\n",
    "single = do.call(rbind, single)\n",
    "\n",
    "#Remove NAs\n",
    "multi = na.omit(multi)\n",
    "single = na.omit(single)"
   ]
  },
  {
   "cell_type": "markdown",
   "id": "0300a6df",
   "metadata": {},
   "source": [
    "<font size=\"3\"> Calculate joint distributions by cell # and plot"
   ]
  },
  {
   "cell_type": "code",
   "execution_count": null,
   "id": "08d10750",
   "metadata": {},
   "outputs": [],
   "source": [
    "par(mfrow = c(2,3))\n",
    "options(repr.plot.width = 15, repr.plot.height = 10)\n",
    "\n",
    "toTest = c('cr', 'cs')\n",
    "pdfs = list()\n",
    "for(i in 1:2){\n",
    "  \n",
    "  #Single\n",
    "  single_2d = plot_velocity_prob_density_function(single$velocity[single$species == toTest[i]],\n",
    "                                                  single$angular_velocity[single$species == toTest[i]],\n",
    "                                                  title_label = 'Individual cells')\n",
    "  pdfs[[paste(toTest[i], 'single', sep = '_')]] = single_2d\n",
    "  \n",
    "  #Multiple\n",
    "  multi_2d = plot_velocity_prob_density_function(multi$velocity[multi$species == toTest[i]],\n",
    "                                                 multi$angular_velocity[multi$species == toTest[i]],\n",
    "                                                 title_label = 'Multiple cells') \n",
    "  pdfs[[paste(toTest[i], 'multi', sep = '_')]] = multi_2d\n",
    "  \n",
    "  #Difference\n",
    "  d = plot_diff_prob_density_function(single_2d,\n",
    "                                      multi_2d)\n",
    "  pdfs[[paste(toTest[i], 'diff', sep = '_')]] = d\n",
    "\n",
    "}"
   ]
  }
 ],
 "metadata": {
  "kernelspec": {
   "display_name": "R",
   "language": "R",
   "name": "ir"
  },
  "language_info": {
   "codemirror_mode": "r",
   "file_extension": ".r",
   "mimetype": "text/x-r-source",
   "name": "R",
   "pygments_lexer": "r",
   "version": "4.2.2"
  }
 },
 "nbformat": 4,
 "nbformat_minor": 5
}
